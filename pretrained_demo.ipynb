{
 "cells": [
  {
   "cell_type": "code",
   "execution_count": 1,
   "metadata": {},
   "outputs": [],
   "source": [
    "from unityagents import UnityEnvironment\n",
    "import torch\n",
    "from torch import nn\n",
    "from src.model.ddpg import DDPGAgent\n",
    "from src.model.ma_ddpg import MADDPGAgent"
   ]
  },
  {
   "cell_type": "code",
   "execution_count": 2,
   "metadata": {},
   "outputs": [
    {
     "name": "stderr",
     "output_type": "stream",
     "text": [
      "INFO:unityagents:\n",
      "'Academy' started successfully!\n",
      "Unity Academy name: Academy\n",
      "        Number of Brains: 1\n",
      "        Number of External Brains : 1\n",
      "        Lesson number : 0\n",
      "        Reset Parameters :\n",
      "\t\t\n",
      "Unity brain name: TennisBrain\n",
      "        Number of Visual Observations (per agent): 0\n",
      "        Vector Observation space type: continuous\n",
      "        Vector Observation space size (per agent): 8\n",
      "        Number of stacked Vector Observation: 3\n",
      "        Vector Action space type: continuous\n",
      "        Vector Action space size (per agent): 2\n",
      "        Vector Action descriptions: , \n"
     ]
    }
   ],
   "source": [
    "env = UnityEnvironment(file_name='unity/Tennis.app', no_graphics=False)"
   ]
  },
  {
   "cell_type": "code",
   "execution_count": 3,
   "metadata": {},
   "outputs": [
    {
     "name": "stderr",
     "output_type": "stream",
     "text": [
      "Mean Cumulative Reward: 2.10:  80%|████████  | 800/1000 [00:40<00:10, 19.55it/s]"
     ]
    }
   ],
   "source": [
    "agent = DDPGAgent.from_file(env, 'assets/DDPG.pth')\n",
    "agent.run_test_episode(track_progress=True)"
   ]
  },
  {
   "cell_type": "code",
   "execution_count": null,
   "metadata": {},
   "outputs": [
    {
     "name": "stderr",
     "output_type": "stream",
     "text": [
      "Mean Cumulative Reward: 38.68: 100%|██████████| 1000/1000 [00:40<00:00, 24.85it/s]\n"
     ]
    },
    {
     "data": {
      "text/plain": [
       "array([[39.47999912, 39.35999912, 39.57999912, 36.87999918, 36.75999918,\n",
       "        39.49999912, 39.57999912, 39.40999912, 35.8599992 , 39.11999913,\n",
       "        36.83999918, 39.56999912, 35.9499992 , 39.54999912, 39.54999912,\n",
       "        38.48999914, 39.52999912, 39.55999912, 39.52999912, 39.57999912]])"
      ]
     },
     "execution_count": 4,
     "metadata": {},
     "output_type": "execute_result"
    }
   ],
   "source": [
    "agent = MADDPGAgent.from_file(env, 'assets/MADDPG.pth')\n",
    "agent.run_test_episode(track_progress=True)"
   ]
  }
 ],
 "metadata": {
  "kernelspec": {
   "display_name": "drlnd",
   "language": "python",
   "name": "drlnd"
  },
  "language_info": {
   "codemirror_mode": {
    "name": "ipython",
    "version": 3
   },
   "file_extension": ".py",
   "mimetype": "text/x-python",
   "name": "python",
   "nbconvert_exporter": "python",
   "pygments_lexer": "ipython3",
   "version": "3.6.15"
  },
  "orig_nbformat": 4
 },
 "nbformat": 4,
 "nbformat_minor": 2
}
